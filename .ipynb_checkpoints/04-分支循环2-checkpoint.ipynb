{
 "cells": [
  {
   "cell_type": "markdown",
   "metadata": {},
   "source": [
    "## if 语句"
   ]
  },
  {
   "cell_type": "code",
   "execution_count": 10,
   "metadata": {},
   "outputs": [
    {
     "name": "stdout",
     "output_type": "stream",
     "text": [
      "猜猜我是谁:5\n",
      "猜错啦\n",
      "Game End\n"
     ]
    }
   ],
   "source": [
    "temp = input(\"猜猜我是谁:\")\n",
    "guess = int(temp)\n",
    "if guess ==8:\n",
    "    print(\"猜对啦\")\n",
    "else:\n",
    "    print(\"猜错啦\")\n",
    "print(\"Game End\")"
   ]
  },
  {
   "cell_type": "code",
   "execution_count": 15,
   "metadata": {},
   "outputs": [
    {
     "name": "stdout",
     "output_type": "stream",
     "text": [
      "请输入学生成绩50\n",
      "朋友 再见吧\n"
     ]
    }
   ],
   "source": [
    "score = input(\"请输入学生成绩\")\n",
    "score = int(score)\n",
    "if score >=90:\n",
    "    print(\"A\")\n",
    "if score >=80 and score <90:\n",
    "    print(\"B\")\n",
    "if score >=70 and score <80:\n",
    "    print(\"C\")\n",
    "if score >=60 and score <70:\n",
    "    print(\"D\")\n",
    "if score <60:\n",
    "    print(\"朋友 再见吧\")"
   ]
  },
  {
   "cell_type": "markdown",
   "metadata": {},
   "source": [
    "## elif （else if）\n",
    "- else 可选"
   ]
  },
  {
   "cell_type": "code",
   "execution_count": 19,
   "metadata": {},
   "outputs": [
    {
     "name": "stdout",
     "output_type": "stream",
     "text": [
      "请输入学生成绩669\n",
      "A\n"
     ]
    }
   ],
   "source": [
    "score = input(\"请输入学生成绩\")\n",
    "score = int(score)\n",
    "if score >=90:\n",
    "    print(\"A\")\n",
    "elif score >=80:\n",
    "    print(\"B\")\n",
    "elif score >=70:\n",
    "    print(\"C\")\n",
    "elif score >=60:\n",
    "    print(\"D\")\n",
    "else:\n",
    "    print(\"朋友 再见吧\")"
   ]
  },
  {
   "cell_type": "markdown",
   "metadata": {},
   "source": [
    "## for 循环"
   ]
  },
  {
   "cell_type": "code",
   "execution_count": 22,
   "metadata": {},
   "outputs": [
    {
     "name": "stdout",
     "output_type": "stream",
     "text": [
      "wang\n",
      "liu\n",
      "li\n"
     ]
    }
   ],
   "source": [
    "# for循环\n",
    "for name in ['wang','liu','li']:\n",
    "    print(name)"
   ]
  },
  {
   "cell_type": "code",
   "execution_count": 26,
   "metadata": {},
   "outputs": [
    {
     "name": "stdout",
     "output_type": "stream",
     "text": [
      "wang\n",
      "不约不约\n",
      "liu\n",
      "我的最爱呀liu出现了\n",
      "li\n",
      "不约不约\n"
     ]
    }
   ],
   "source": [
    "for name in ['wang','liu','li']:\n",
    "    print(name)\n",
    "    if name == 'liu':\n",
    "        print(\"我的最爱呀{0}出现了\".format(name))\n",
    "    else:\n",
    "        print(\"不约不约\")"
   ]
  },
  {
   "cell_type": "markdown",
   "metadata": {},
   "source": [
    "## range\n",
    "- 生成一个数序列\n",
    "- 具体范围可以设定"
   ]
  },
  {
   "cell_type": "code",
   "execution_count": 32,
   "metadata": {},
   "outputs": [
    {
     "name": "stdout",
     "output_type": "stream",
     "text": [
      "1\n",
      "2\n",
      "3\n",
      "4\n",
      "5\n",
      "6\n",
      "7\n",
      "8\n",
      "9\n",
      "10\n"
     ]
    }
   ],
   "source": [
    "# 打印从1-10的数字\n",
    "# 注意，一般在Python中，如果由表示数字范围的两个数，一般是包含左边数字，不包右边数字\n",
    "# randint特例，他左右都包含\n",
    "# range函数在Python2和Python3里面有很大的区别\n",
    "for i in range(1,11):\n",
    "    print(i)"
   ]
  },
  {
   "cell_type": "markdown",
   "metadata": {},
   "source": [
    "## for-else语句\n",
    "- 当for循环执行结束时，会执行else语句\n",
    "- else语句是可选语句"
   ]
  },
  {
   "cell_type": "code",
   "execution_count": 34,
   "metadata": {},
   "outputs": [
    {
     "name": "stdout",
     "output_type": "stream",
     "text": [
      "wang\n",
      "不约不约\n",
      "liu\n",
      "我的最爱呀liu出现了\n",
      "li\n",
      "不约不约\n",
      "打印完毕\n"
     ]
    }
   ],
   "source": [
    "# for-else语句\n",
    "# 打印列表同学\n",
    "# 如果没有在列表中，或者列表结束了，我们需要打印提示语句\n",
    "\n",
    "for name in ['wang','liu','li']:\n",
    "    print(name)\n",
    "    if name == 'liu':\n",
    "        print(\"我的最爱呀{0}出现了\".format(name))\n",
    "    else:\n",
    "        print(\"不约不约\")\n",
    "else:\n",
    "    print(\"打印完毕\")"
   ]
  },
  {
   "cell_type": "markdown",
   "metadata": {},
   "source": [
    "## 循环之break，continue，pass\n",
    "- break：无条件结束整个循环，简称循环猝死\n",
    "- continue：无条件结束本次循环，重新进入下一轮循环\n",
    "- pass：表示略过,通常用于占位"
   ]
  },
  {
   "cell_type": "code",
   "execution_count": 51,
   "metadata": {},
   "outputs": [
    {
     "name": "stdout",
     "output_type": "stream",
     "text": [
      "1\n",
      "2\n",
      "3\n",
      "4\n",
      "5\n",
      "6\n",
      "我找到了\n"
     ]
    }
   ],
   "source": [
    "# 在1-10的数字中，寻找数字7，一旦找到，打印出来，奇其余则什么都不做\n",
    "# for循环中的变量表示，一般用i,k,m,n,或者index,idx,item之类\n",
    "# 在Python中，如果循环变量名称不重要，可以用下划线“_”代替\n",
    "for i in range(1,11):\n",
    "    if i == 7:\n",
    "        print(\"我找到了\")\n",
    "        break\n",
    "    else:\n",
    "        print(i)"
   ]
  },
  {
   "cell_type": "code",
   "execution_count": 63,
   "metadata": {},
   "outputs": [
    {
     "name": "stdout",
     "output_type": "stream",
     "text": [
      "1不是偶数\n",
      "我找到偶数2了\n",
      "3不是偶数\n",
      "我找到偶数4了\n",
      "5不是偶数\n",
      "我找到偶数6了\n",
      "7不是偶数\n",
      "我找到偶数8了\n",
      "9不是偶数\n",
      "我找到偶数10了\n"
     ]
    }
   ],
   "source": [
    "# 在1-10的数字中，寻找所有偶数，找到偶数后，打印出来\n",
    "# continue\n",
    "for i in range(1,11):\n",
    "    if i%2 == 0:       \n",
    "        print(\"我找到偶数{0}了\".format(i))\n",
    "        continue\n",
    "    else:\n",
    "        print(\"{0}不是偶数\".format(i))"
   ]
  },
  {
   "cell_type": "code",
   "execution_count": 67,
   "metadata": {},
   "outputs": [
    {
     "name": "stdout",
     "output_type": "stream",
     "text": [
      "2 是偶数\n",
      "4 是偶数\n",
      "6 是偶数\n",
      "8 是偶数\n",
      "10 是偶数\n"
     ]
    }
   ],
   "source": [
    "# 在1-10的数字中，寻找所有偶数，找到偶数后，打印出来\n",
    "# continue用法2\n",
    "for i in range(1,11):\n",
    "    if i%2 == 1:       \n",
    "        continue\n",
    "    else:\n",
    "        print(\"{0} 是偶数\".format(i))"
   ]
  },
  {
   "cell_type": "code",
   "execution_count": 68,
   "metadata": {},
   "outputs": [
    {
     "name": "stdout",
     "output_type": "stream",
     "text": [
      "2 是偶数\n",
      "4 是偶数\n",
      "6 是偶数\n",
      "8 是偶数\n",
      "10 是偶数\n"
     ]
    }
   ],
   "source": [
    "# 在1-10的数字中，寻找所有偶数，找到偶数后，打印出来\n",
    "# continue用法3\n",
    "# 本案例完整显示continue的用法和作用\n",
    "for i in range(1,11):\n",
    "    if i%2 == 1:       \n",
    "        continue\n",
    "    print(\"{0} 是偶数\".format(i))"
   ]
  },
  {
   "cell_type": "code",
   "execution_count": 72,
   "metadata": {},
   "outputs": [
    {
     "name": "stdout",
     "output_type": "stream",
     "text": [
      "zhixing\n",
      "zhixing\n",
      "zhixing\n",
      "zhixing\n",
      "zhixing\n",
      "zhixing\n",
      "zhixing\n",
      "zhixing\n",
      "zhixing\n",
      "zhixing\n"
     ]
    }
   ],
   "source": [
    "# pass例子，一般用于占位\n",
    "# pass没有跳过功能\n",
    "\n",
    "for i in range(1,11):\n",
    "    pass\n",
    "    print(\"zhixing\")"
   ]
  }
 ],
 "metadata": {
  "kernelspec": {
   "display_name": "Python 3",
   "language": "python",
   "name": "python3"
  },
  "language_info": {
   "codemirror_mode": {
    "name": "ipython",
    "version": 3
   },
   "file_extension": ".py",
   "mimetype": "text/x-python",
   "name": "python",
   "nbconvert_exporter": "python",
   "pygments_lexer": "ipython3",
   "version": "3.6.5"
  }
 },
 "nbformat": 4,
 "nbformat_minor": 2
}
