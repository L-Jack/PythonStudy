{
 "cells": [
  {
   "cell_type": "code",
   "execution_count": 4,
   "metadata": {},
   "outputs": [
    {
     "name": "stdout",
     "output_type": "stream",
     "text": [
      "1  \n",
      "2  4  \n",
      "3  6  9  \n",
      "4  8  12 16 \n",
      "5  10 15 20 25 \n",
      "6  12 18 24 30 36 \n",
      "7  14 21 28 35 42 49 \n",
      "8  16 24 32 40 48 56 64 \n",
      "9  18 27 36 45 54 63 72 81 \n"
     ]
    }
   ],
   "source": [
    "# 左1版本\n",
    "for row in range(1,10):\n",
    "    for col in range(1,row+1):\n",
    "        print(\"%-2d\"%(row*col),end=\" \")\n",
    "    print(\"\")"
   ]
  },
  {
   "cell_type": "code",
   "execution_count": 36,
   "metadata": {},
   "outputs": [
    {
     "name": "stdout",
     "output_type": "stream",
     "text": [
      "1  2  3  4  5  6  7  8  9  \n",
      "4  6  8  10 12 14 16 18 \n",
      "9  12 15 18 21 24 27 \n",
      "16 20 24 28 32 36 \n",
      "25 30 35 40 45 \n",
      "36 42 48 54 \n",
      "49 56 63 \n",
      "64 72 \n",
      "81 \n"
     ]
    }
   ],
   "source": [
    "# 左2版本\n",
    "for row in range(1,10):\n",
    "    for col in range(row,10):\n",
    "        print(\"%-2d\"%(row*col),end=\" \")\n",
    "    print(\"\")"
   ]
  },
  {
   "cell_type": "code",
   "execution_count": 48,
   "metadata": {
    "scrolled": true
   },
   "outputs": [
    {
     "name": "stdout",
     "output_type": "stream",
     "text": [
      " 1  2  3  4  5  6  7  8  9 \n",
      "    4  6  8 10 12 14 16 18 \n",
      "       9 12 15 18 21 24 27 \n",
      "         16 20 24 28 32 36 \n",
      "            25 30 35 40 45 \n",
      "               36 42 48 54 \n",
      "                  49 56 63 \n",
      "                     64 72 \n",
      "                        81 \n"
     ]
    }
   ],
   "source": [
    "# 右1版本\n",
    "for row in range(1,10):\n",
    "    for col1 in range(1,row):\n",
    "        print(\"  \",end=\" \")\n",
    "    for col2 in range(row,10):\n",
    "        print(\"%2d\"%(row*col2),end=\" \")\n",
    "    print(\"\")"
   ]
  },
  {
   "cell_type": "code",
   "execution_count": 54,
   "metadata": {},
   "outputs": [
    {
     "name": "stdout",
     "output_type": "stream",
     "text": [
      "                         1 \n",
      "                      2  4 \n",
      "                   3  6  9 \n",
      "                4  8 12 16 \n",
      "             5 10 15 20 25 \n",
      "          6 12 18 24 30 36 \n",
      "       7 14 21 28 35 42 49 \n",
      "    8 16 24 32 40 48 56 64 \n",
      " 9 18 27 36 45 54 63 72 81 \n"
     ]
    }
   ],
   "source": [
    "# 右2版本\n",
    "for row in range(1,10):\n",
    "    for col1 in range(1,10-row):\n",
    "        print(\"  \",end=\" \")\n",
    "    for col2 in range(1,row+1):\n",
    "        print(\"%2d\"%(row*col2),end=\" \")\n",
    "    print(\"\")"
   ]
  },
  {
   "cell_type": "markdown",
   "metadata": {},
   "source": [
    "# 注意\n",
    "- 右边乘法表 每个运算占三个字符 所以用两个空格 加上end=“ ” 一共三个空格来占位"
   ]
  }
 ],
 "metadata": {
  "kernelspec": {
   "display_name": "Python 3",
   "language": "python",
   "name": "python3"
  },
  "language_info": {
   "codemirror_mode": {
    "name": "ipython",
    "version": 3
   },
   "file_extension": ".py",
   "mimetype": "text/x-python",
   "name": "python",
   "nbconvert_exporter": "python",
   "pygments_lexer": "ipython3",
   "version": "3.6.5"
  }
 },
 "nbformat": 4,
 "nbformat_minor": 2
}
