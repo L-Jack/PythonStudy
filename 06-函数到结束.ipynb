{
 "cells": [
  {
   "cell_type": "markdown",
   "metadata": {},
   "source": [
    "# 四类参数\n",
    "- 普通参数\n",
    "- 默认参数\n",
    "- 关键字参数\n",
    "- 收集参数\n",
    "\n",
    "## 关键字参数开始\n",
    "- 语法\n",
    "\n",
    "        def func(p1=v1,p2=v2,......):\n",
    "            func_body\n",
    "            \n",
    "        调用函数：\n",
    "        func(p1=value1,p2=value2....)\n",
    "- 比较麻烦，但也有好处\n",
    "    - 不容易混淆，一般实参和形参只是按照位置一一对应即可，容易出错\n",
    "    - 使用关键字函数，可以不考虑参数位置"
   ]
  },
  {
   "cell_type": "code",
   "execution_count": 5,
   "metadata": {},
   "outputs": [
    {
     "name": "stdout",
     "output_type": "stream",
     "text": [
      "I am student\n",
      "我的名字是 niu ,我今年 21 ,我住在 banan\n",
      "I am student\n",
      "我的名字是 niu,我今年 21,我住在 banan\n"
     ]
    }
   ],
   "source": [
    "# 关键字参数案例\n",
    "def stu(name,age,addr):\n",
    "    print(\"I am student\")\n",
    "    print(\"我的名字是 {0} ,我今年 {1} ,我住在 {2}\".format(name,age,addr))\n",
    "    \n",
    "n = \"niu\"\n",
    "a = 21\n",
    "addr = \"banan\"\n",
    "\n",
    "# 普通参数，只按照位置来传递，容易出错\n",
    "stu(n,a,addr)\n",
    "\n",
    "def stu_key(name=\"No name\",age=0,addr=\"No addr\"):\n",
    "    print(\"I am student\")\n",
    "    print(\"我的名字是 {0},我今年 {1},我住在 {2}\".format(name,age,addr))\n",
    "    \n",
    "n = \"niu\"\n",
    "a = 21\n",
    "addr = \"banan\"\n",
    "\n",
    "stu_key(name=n, addr=addr, age=a)"
   ]
  },
  {
   "cell_type": "markdown",
   "metadata": {},
   "source": [
    "## 收集参数\n",
    "- 把没有位置，不能喝定义时的参数位置相对应的参数，放入一个特定的数据结构中\n",
    "- 语法\n",
    "        \n",
    "        def func(*args):\n",
    "            func_body\n",
    "            按照lisy使用方式访问args得到传入的参数\n",
    "           \n",
    "        调用：\n",
    "        func()p1, p2, p3.....)\n",
    "- 参数名args不是必须这么写，但是，我们推荐直接用args，约定俗成"
   ]
  },
  {
   "cell_type": "code",
   "execution_count": 10,
   "metadata": {},
   "outputs": [
    {
     "name": "stdout",
     "output_type": "stream",
     "text": [
      "hello 大家好，我自我介绍一下，简单说两句\n",
      "<class 'tuple'>\n",
      "liujack\n",
      "21\n",
      "四川\n",
      "hello 大家好，我自我介绍一下，简单说两句\n",
      "<class 'tuple'>\n",
      "xiaoxiong\n"
     ]
    }
   ],
   "source": [
    "# 收集参数代码\n",
    "# 函数模拟一个学生自我介绍，但具体内容不清楚\n",
    "# args 把它看做一个list\n",
    "\n",
    "def stu( *args):\n",
    "    print(\"hello 大家好，我自我介绍一下，简单说两句\")\n",
    "    # type函数作用是检测变量的类型\n",
    "    print(type(args))\n",
    "    for item in args:\n",
    "        print(item)\n",
    "\n",
    "stu(\"liujack\", 21, \"四川\")\n",
    "\n",
    "stu(\"xiaoxiong\")"
   ]
  },
  {
   "cell_type": "code",
   "execution_count": 13,
   "metadata": {},
   "outputs": [
    {
     "name": "stdout",
     "output_type": "stream",
     "text": [
      "hello 大家好，我自我介绍一下，简单说两句\n",
      "<class 'tuple'>\n"
     ]
    }
   ],
   "source": [
    "# 收集参数案例\n",
    "# 说明收集参数可以不带任何实参调用，吃屎收集参数为空tuple\n",
    "\n",
    "stu()"
   ]
  },
  {
   "cell_type": "code",
   "execution_count": 14,
   "metadata": {},
   "outputs": [
    {
     "ename": "TypeError",
     "evalue": "stu() got an unexpected keyword argument 'name'",
     "traceback": [
      "\u001b[1;31m---------------------------------------------------------------------------\u001b[0m",
      "\u001b[1;31mTypeError\u001b[0m                                 Traceback (most recent call last)",
      "\u001b[1;32m<ipython-input-14-9d6c2423f862>\u001b[0m in \u001b[0;36m<module>\u001b[1;34m()\u001b[0m\n\u001b[0;32m      1\u001b[0m \u001b[1;31m# 如果使用关键字参数格式调用，会出现问题\u001b[0m\u001b[1;33m\u001b[0m\u001b[1;33m\u001b[0m\u001b[0m\n\u001b[0;32m      2\u001b[0m \u001b[1;33m\u001b[0m\u001b[0m\n\u001b[1;32m----> 3\u001b[1;33m \u001b[0mstu\u001b[0m\u001b[1;33m(\u001b[0m\u001b[0mname\u001b[0m\u001b[1;33m=\u001b[0m\u001b[1;34m\"wang\"\u001b[0m\u001b[1;33m)\u001b[0m\u001b[1;33m\u001b[0m\u001b[0m\n\u001b[0m",
      "\u001b[1;31mTypeError\u001b[0m: stu() got an unexpected keyword argument 'name'"
     ],
     "output_type": "error"
    }
   ],
   "source": [
    "# 如果使用关键字参数格式调用，会出现问题\n",
    "\n",
    "stu(name=\"wang\")"
   ]
  },
  {
   "cell_type": "markdown",
   "metadata": {},
   "source": [
    "### 收集参数之关键字收集参数\n",
    "- 把关键字参数按照字典的格式放入收集参数\n",
    "- 语法：\n",
    "\n",
    "        def func( **kwargs):\n",
    "            func_body\n",
    "        \n",
    "        # 调用\n",
    "        func(p1=v1, p2=v2, ....)\n",
    "- kwargs一般约定俗成\n",
    "- 调用的时候，把多余的关键字参数放入kwargs\n",
    "- 访问kwargs需要按照字典格式访问"
   ]
  },
  {
   "cell_type": "code",
   "execution_count": 30,
   "metadata": {},
   "outputs": [
    {
     "name": "stdout",
     "output_type": "stream",
     "text": [
      "hello,大家好，我自我介绍一下：\n",
      "<class 'dict'>\n",
      "name ---> wang\n",
      "age ---> 21\n",
      "addr ---> 四川\n",
      "******************************\n",
      "hello,大家好，我自我介绍一下：\n",
      "<class 'dict'>\n",
      "name ---> xiaoli\n"
     ]
    }
   ],
   "source": [
    "# 收集参数案例\n",
    "# 自我介绍\n",
    "# 调用的时候需要使用关键字参数调用\n",
    "\n",
    "def stu( **kwargs):\n",
    "    # 在函数体内对于kwargs的使用不用带星号\n",
    "    print(\"hello,大家好，我自我介绍一下：\")\n",
    "    print(type(kwargs))\n",
    "    # 对于字典的访问，python2和python3有区别\n",
    "    for k,v in kwargs.items():\n",
    "        print(k, \"--->\", v)\n",
    "\n",
    "stu(name=\"wang\", age=21, addr=\"四川\")\n",
    "\n",
    "print(\"*\" * 30)\n",
    "\n",
    "stu(name=\"xiaoli\")"
   ]
  },
  {
   "cell_type": "markdown",
   "metadata": {},
   "source": [
    "### 收集参数混合调用的顺序问题：\n",
    "- 收集参数， 关键字参数， 普通参数是可以混合使用的\n",
    "- 使用规则就是，普通函数和关键字函数优先处理\n",
    "- 定义的时候一般找普通参数，关键字参数，收集参数tuple，收集参数dict"
   ]
  },
  {
   "cell_type": "code",
   "execution_count": 34,
   "metadata": {},
   "outputs": [
    {
     "name": "stdout",
     "output_type": "stream",
     "text": [
      "hello,大家好\n",
      "我叫liujack，我今年21。\n",
      "我的爱好是打球\n",
      "********************\n",
      "##############################\n",
      "addr  -->  四川\n",
      "hello,大家好\n",
      "我叫liujack，我今年21。\n",
      "我的爱好是打球\n",
      "********************\n",
      "不明白\n",
      "##############################\n",
      "hobby2  -->  玩耍\n",
      "addr  -->  四川\n"
     ]
    }
   ],
   "source": [
    "# 收集参数混合调用案例\n",
    "# stu模拟一个学生的自我介绍\n",
    "def stu(name, age, *args, hobby=\"没有\", **kwargs):\n",
    "    print(\"hello,大家好\")\n",
    "    print(\"我叫{0}，我今年{1}。\".format(name, age))\n",
    "    if hobby== \"没有\":\n",
    "        print(\"对不起，我没有爱好\")        \n",
    "    else:\n",
    "        print(\"我的爱好是{0}\".format(hobby))\n",
    "    print(\"*\" * 20)\n",
    "    for i in args:\n",
    "        print(i)\n",
    "    print(\"#\" * 30)\n",
    "    for k,v in kwargs.items():\n",
    "        print(k,\" --> \",v)\n",
    "\n",
    "# 调用函数\n",
    "name=\"liujack\"\n",
    "age=21\n",
    "\n",
    "stu(name, age, hobby=\"打球\", addr=\"四川\")\n",
    "\n",
    "stu(name, age,\"不明白\", hobby=\"打球\", hobby2=\"玩耍\", addr=\"四川\")"
   ]
  },
  {
   "cell_type": "markdown",
   "metadata": {},
   "source": [
    "### 收集参数的解包问题\n",
    "- 把参数放入list中，直接把list中的值放入收集参数中\n",
    "- 语法：  参看案例"
   ]
  },
  {
   "cell_type": "code",
   "execution_count": 45,
   "metadata": {},
   "outputs": [
    {
     "name": "stdout",
     "output_type": "stream",
     "text": [
      "********************\n",
      "<class 'list'>\n",
      "0\n",
      "['xiaoli', 31, 22]\n",
      "********************\n",
      "<class 'str'>\n",
      "0\n",
      "xiaoli\n",
      "<class 'int'>\n",
      "1\n",
      "31\n",
      "<class 'int'>\n",
      "2\n",
      "22\n"
     ]
    }
   ],
   "source": [
    "# 收集参数的解包问题\n",
    "\n",
    "def stu(*args):\n",
    "    print(\"********************\")\n",
    "    n = 0\n",
    "    for i in args:\n",
    "        print(type(i))\n",
    "        print(n)\n",
    "        n += 1\n",
    "        print(i)\n",
    "        \n",
    "#stu(\"xiaowang\", \"daqiu\", 21)\n",
    "\n",
    "l = list()\n",
    "l.append(\"xiaoli\")\n",
    "l.append(31)\n",
    "l.append(22)\n",
    "stu(l)\n",
    "# 此时， args的表示形式是字典内一个list类型元素， 即args=(['xiaoli', 31, 22])\n",
    "# 很显然，违背了我们最初的想法\n",
    "\n",
    "# 此时的调用， 我们就需要解包符号， 即调用的时候前面加一个*\n",
    "stu(*l)"
   ]
  },
  {
   "cell_type": "markdown",
   "metadata": {},
   "source": [
    "### 同理，dict类型收集参数一样可以解包，但是\n",
    "- 对dict类型解包\n",
    "- 需要用两个星号进行解包"
   ]
  },
  {
   "cell_type": "markdown",
   "metadata": {},
   "source": [
    "## 返回值\n",
    "- 函数和过程的区别\n",
    "    - 有无返回值\n",
    "- 需要用return显示返回内容\n",
    "- 如果没有返回，默认返回None\n",
    "- 推荐写法，无论有没有返回值，最后都要以return 结束"
   ]
  },
  {
   "cell_type": "code",
   "execution_count": 50,
   "metadata": {},
   "outputs": [
    {
     "name": "stdout",
     "output_type": "stream",
     "text": [
      "有返回值啊\n",
      "1\n",
      "没有返回值啊\n",
      "None\n"
     ]
    }
   ],
   "source": [
    "# 返回值示例\n",
    "\n",
    "def func_1():\n",
    "    print(\"有返回值啊\")\n",
    "    return 1\n",
    "\n",
    "\n",
    "def func_2():\n",
    "    print(\"没有返回值啊\")\n",
    "    \n",
    "f1 = func_1()\n",
    "print(f1)\n",
    "\n",
    "f2 = func_2()\n",
    "print(f2)"
   ]
  },
  {
   "cell_type": "markdown",
   "metadata": {},
   "source": [
    "# 函数文档\n",
    "- 函数的文档的作用是对当前函数提供使用相关的参考信息\n",
    "- 文档的写法：\n",
    "    - 在函数内部开始第一行使用三引号字符串定义符\n",
    "    - 一般具有特定格式\n",
    "    - 参看案例\n",
    "- 文档查看\n",
    "    - 使用help函数，形如 help(func)\n",
    "    - 使用__doc__, 参看案例"
   ]
  },
  {
   "cell_type": "code",
   "execution_count": 58,
   "metadata": {},
   "outputs": [],
   "source": [
    "# 文档案例\n",
    "\n",
    "def stu(name, age, *args):\n",
    "    #'这是文档'\n",
    "    '''\n",
    "    这是第一行\n",
    "    这是第二行\n",
    "    这是第三行\n",
    "    '''\n",
    "    print(\"This is hanshu stu\")"
   ]
  },
  {
   "cell_type": "code",
   "execution_count": 59,
   "metadata": {
    "scrolled": true
   },
   "outputs": [
    {
     "name": "stdout",
     "output_type": "stream",
     "text": [
      "Help on function stu in module __main__:\n",
      "\n",
      "stu(name, age, *args)\n",
      "    这是第一行\n",
      "    这是第二行\n",
      "    这是第三行\n",
      "\n"
     ]
    },
    {
     "data": {
      "text/plain": [
       "'\\n    这是第一行\\n    这是第二行\\n    这是第三行\\n    '"
      ]
     },
     "execution_count": 59,
     "metadata": {},
     "output_type": "execute_result"
    }
   ],
   "source": [
    "# 查看函数文档\n",
    "help(stu)\n",
    "stu.__doc__ #双下划线"
   ]
  }
 ],
 "metadata": {
  "kernelspec": {
   "display_name": "Python 3",
   "language": "python",
   "name": "python3"
  },
  "language_info": {
   "codemirror_mode": {
    "name": "ipython",
    "version": 3
   },
   "file_extension": ".py",
   "mimetype": "text/x-python",
   "name": "python",
   "nbconvert_exporter": "python",
   "pygments_lexer": "ipython3",
   "version": "3.6.5"
  }
 },
 "nbformat": 4,
 "nbformat_minor": 2
}
