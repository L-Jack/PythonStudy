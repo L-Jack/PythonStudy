{
 "cells": [
  {
   "cell_type": "markdown",
   "metadata": {},
   "source": [
    "# 汉诺塔问题\n",
    "- 规则：\n",
    "    1. 每次移动一个盘子\n",
    "    2. 任何时候大盘子在上，小盘子在下\n",
    "- 方法：\n",
    "    1. n=1：直接把A上的一个盘子移动到C上， A->C\n",
    "    2. n=2：\n",
    "        1. 把小盘子从A搬到B上， A->B\n",
    "        2. 把大盘子从A搬到C上， A->C\n",
    "        3. 把小盘子从B搬到C上， B->C\n",
    "    3. n=n时：\n",
    "        1.把A上的n-1个盘子搬到B上，调用递归 \n",
    "        2.把A上剩下的一个最大的盘子搬到C上，A->C\n",
    "        3.把B上的n-1个盘子搬到A上，调用递归"
   ]
  },
  {
   "cell_type": "code",
   "execution_count": 1,
   "metadata": {},
   "outputs": [
    {
     "name": "stdout",
     "output_type": "stream",
     "text": [
      "A -> B\n",
      "A -> C\n",
      "B -> C\n",
      "A -> B\n",
      "C -> A\n",
      "C -> B\n",
      "A -> B\n",
      "A -> C\n",
      "B -> C\n",
      "B -> A\n",
      "C -> A\n",
      "B -> C\n",
      "A -> B\n",
      "A -> C\n",
      "B -> C\n"
     ]
    }
   ],
   "source": [
    "def move(n,a,b,c):# n 个盘子从 a -》 c \n",
    "    '''\n",
    "    n: 表示几个盘子\n",
    "    a: 表示第一个柱子\n",
    "    b: 表示第二个柱子\n",
    "    c: 表示第三个柱子  \n",
    "    '''\n",
    "    if n == 1:\n",
    "        print(a,'->',c)\n",
    "        return None\n",
    "    else:\n",
    "        move(n-1,a,c,b)#把 a 上的 n-1 个盘子搬到 b 上\n",
    "        print(a,'->',c)#把第 n 个盘子从 a 搬到 c\n",
    "        move(n-1,b,a,c)#把 b 上的 n-1 个盘子搬到 c 上\n",
    "move(4,'A','B','C')"
   ]
  }
 ],
 "metadata": {
  "kernelspec": {
   "display_name": "Python 3",
   "language": "python",
   "name": "python3"
  },
  "language_info": {
   "codemirror_mode": {
    "name": "ipython",
    "version": 3
   },
   "file_extension": ".py",
   "mimetype": "text/x-python",
   "name": "python",
   "nbconvert_exporter": "python",
   "pygments_lexer": "ipython3",
   "version": "3.6.5"
  }
 },
 "nbformat": 4,
 "nbformat_minor": 2
}
