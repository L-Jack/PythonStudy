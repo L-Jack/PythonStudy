{
 "cells": [
  {
   "cell_type": "code",
   "execution_count": 4,
   "metadata": {},
   "outputs": [
    {
     "name": "stdout",
     "output_type": "stream",
     "text": [
      "as\n"
     ]
    }
   ],
   "source": [
    "age=19\n",
    "if age<18:\n",
    "    print(\"886\")\n",
    "\n",
    "print(\"as\")"
   ]
  },
  {
   "cell_type": "code",
   "execution_count": 8,
   "metadata": {},
   "outputs": [
    {
     "name": "stdout",
     "output_type": "stream",
     "text": [
      "请输入性别:nv\n",
      "你输入的性别是：nv\n",
      "嘻嘻\n"
     ]
    }
   ],
   "source": [
    "sex = input(\"请输入性别:\")\n",
    "print(\"你输入的性别是：{0}\".format(sex))\n",
    "\n",
    "if sex == \"nv\":\n",
    "    print(\"嘻嘻\")\n",
    "else:\n",
    "    print(\"哈哈\")"
   ]
  },
  {
   "cell_type": "code",
   "execution_count": null,
   "metadata": {},
   "outputs": [],
   "source": []
  },
  {
   "cell_type": "code",
   "execution_count": null,
   "metadata": {},
   "outputs": [],
   "source": []
  }
 ],
 "metadata": {
  "kernelspec": {
   "display_name": "Python 3",
   "language": "python",
   "name": "python3"
  },
  "language_info": {
   "codemirror_mode": {
    "name": "ipython",
    "version": 3
   },
   "file_extension": ".py",
   "mimetype": "text/x-python",
   "name": "python",
   "nbconvert_exporter": "python",
   "pygments_lexer": "ipython3",
   "version": "3.6.5"
  }
 },
 "nbformat": 4,
 "nbformat_minor": 2
}
